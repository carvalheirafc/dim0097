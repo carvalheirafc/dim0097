{
  "nbformat": 4,
  "nbformat_minor": 0,
  "metadata": {
    "colab": {
      "name": "questão_c.ipynb",
      "provenance": [],
      "authorship_tag": "ABX9TyOcj7dZeWBOtmXC93LjSIs2",
      "include_colab_link": true
    },
    "kernelspec": {
      "name": "python3",
      "display_name": "Python 3"
    }
  },
  "cells": [
    {
      "cell_type": "markdown",
      "metadata": {
        "id": "view-in-github",
        "colab_type": "text"
      },
      "source": [
        "<a href=\"https://colab.research.google.com/github/carvalheirafc/dim0097/blob/master/lista1/quest%C3%A3o_c.ipynb\" target=\"_parent\"><img src=\"https://colab.research.google.com/assets/colab-badge.svg\" alt=\"Open In Colab\"/></a>"
      ]
    },
    {
      "cell_type": "code",
      "metadata": {
        "id": "ZrwYpvJLUnvA",
        "colab_type": "code",
        "colab": {
          "base_uri": "https://localhost:8080/",
          "height": 71
        },
        "outputId": "2c0efd83-b60d-4faa-feb1-8b66bebc7285"
      },
      "source": [
        "import pandas as pd\n",
        "import numpy as np\n",
        "from scipy.stats import mode\n",
        "import seaborn as sns\n",
        "from matplotlib import pyplot as plt"
      ],
      "execution_count": 1,
      "outputs": [
        {
          "output_type": "stream",
          "text": [
            "/usr/local/lib/python3.6/dist-packages/statsmodels/tools/_testing.py:19: FutureWarning: pandas.util.testing is deprecated. Use the functions in the public API at pandas.testing instead.\n",
            "  import pandas.util.testing as tm\n"
          ],
          "name": "stderr"
        }
      ]
    },
    {
      "cell_type": "code",
      "metadata": {
        "id": "ZIAn3Ro2UpZs",
        "colab_type": "code",
        "colab": {
          "base_uri": "https://localhost:8080/",
          "height": 204
        },
        "outputId": "73aa0a9a-2568-47e3-870e-d24ef5cd8bb5"
      },
      "source": [
        "'''\n",
        "IO 'Lista1_Conjunto1.xlsx' into Pandas Dataframe\n",
        "Selected only columns with valid data. Excluded NaN.\n",
        "Renamed columns names.\n",
        "\n",
        "'''\n",
        "data = pd.read_excel('Lista1_Conjunto1.xlsx', skiprows=1, usecols=[2,3,4,5,6,7])\n",
        "data.columns = data.loc[[0]].values.reshape(-1)\n",
        "data.head()"
      ],
      "execution_count": 2,
      "outputs": [
        {
          "output_type": "execute_result",
          "data": {
            "text/html": [
              "<div>\n",
              "<style scoped>\n",
              "    .dataframe tbody tr th:only-of-type {\n",
              "        vertical-align: middle;\n",
              "    }\n",
              "\n",
              "    .dataframe tbody tr th {\n",
              "        vertical-align: top;\n",
              "    }\n",
              "\n",
              "    .dataframe thead th {\n",
              "        text-align: right;\n",
              "    }\n",
              "</style>\n",
              "<table border=\"1\" class=\"dataframe\">\n",
              "  <thead>\n",
              "    <tr style=\"text-align: right;\">\n",
              "      <th></th>\n",
              "      <th>V1</th>\n",
              "      <th>V2</th>\n",
              "      <th>V3</th>\n",
              "      <th>V4</th>\n",
              "      <th>V5</th>\n",
              "      <th>V6</th>\n",
              "    </tr>\n",
              "  </thead>\n",
              "  <tbody>\n",
              "    <tr>\n",
              "      <th>0</th>\n",
              "      <td>V1</td>\n",
              "      <td>V2</td>\n",
              "      <td>V3</td>\n",
              "      <td>V4</td>\n",
              "      <td>V5</td>\n",
              "      <td>V6</td>\n",
              "    </tr>\n",
              "    <tr>\n",
              "      <th>1</th>\n",
              "      <td>5.1</td>\n",
              "      <td>3.5</td>\n",
              "      <td>4.95</td>\n",
              "      <td>1.4</td>\n",
              "      <td>1.96</td>\n",
              "      <td>0.2</td>\n",
              "    </tr>\n",
              "    <tr>\n",
              "      <th>2</th>\n",
              "      <td>4.9</td>\n",
              "      <td>3</td>\n",
              "      <td>5.3</td>\n",
              "      <td>1.4</td>\n",
              "      <td>1.96</td>\n",
              "      <td>0.2</td>\n",
              "    </tr>\n",
              "    <tr>\n",
              "      <th>3</th>\n",
              "      <td>4.7</td>\n",
              "      <td>3.2</td>\n",
              "      <td>4.6</td>\n",
              "      <td>1.3</td>\n",
              "      <td>1.69</td>\n",
              "      <td>0.2</td>\n",
              "    </tr>\n",
              "    <tr>\n",
              "      <th>4</th>\n",
              "      <td>4.6</td>\n",
              "      <td>3.1</td>\n",
              "      <td>4.55</td>\n",
              "      <td>1.5</td>\n",
              "      <td>2.25</td>\n",
              "      <td>0.2</td>\n",
              "    </tr>\n",
              "  </tbody>\n",
              "</table>\n",
              "</div>"
            ],
            "text/plain": [
              "    V1   V2    V3   V4    V5   V6\n",
              "0   V1   V2    V3   V4    V5   V6\n",
              "1  5.1  3.5  4.95  1.4  1.96  0.2\n",
              "2  4.9    3   5.3  1.4  1.96  0.2\n",
              "3  4.7  3.2   4.6  1.3  1.69  0.2\n",
              "4  4.6  3.1  4.55  1.5  2.25  0.2"
            ]
          },
          "metadata": {
            "tags": []
          },
          "execution_count": 2
        }
      ]
    },
    {
      "cell_type": "code",
      "metadata": {
        "id": "2NqAVxvzshSa",
        "colab_type": "code",
        "colab": {}
      },
      "source": [
        "'''\n",
        "Execute this only once in a runtime session.\n",
        "This delete only the first column, ['V1', 'V2', ...'V6']\n",
        "'''\n",
        "data.drop([0], inplace=True)"
      ],
      "execution_count": 3,
      "outputs": []
    },
    {
      "cell_type": "code",
      "metadata": {
        "id": "q6PrMKdKrv17",
        "colab_type": "code",
        "colab": {
          "base_uri": "https://localhost:8080/",
          "height": 235
        },
        "outputId": "e356a297-cb00-4bf7-80be-0c7d03a39309"
      },
      "source": [
        "data.astype(float).describe().transpose()"
      ],
      "execution_count": 4,
      "outputs": [
        {
          "output_type": "execute_result",
          "data": {
            "text/html": [
              "<div>\n",
              "<style scoped>\n",
              "    .dataframe tbody tr th:only-of-type {\n",
              "        vertical-align: middle;\n",
              "    }\n",
              "\n",
              "    .dataframe tbody tr th {\n",
              "        vertical-align: top;\n",
              "    }\n",
              "\n",
              "    .dataframe thead th {\n",
              "        text-align: right;\n",
              "    }\n",
              "</style>\n",
              "<table border=\"1\" class=\"dataframe\">\n",
              "  <thead>\n",
              "    <tr style=\"text-align: right;\">\n",
              "      <th></th>\n",
              "      <th>count</th>\n",
              "      <th>mean</th>\n",
              "      <th>std</th>\n",
              "      <th>min</th>\n",
              "      <th>25%</th>\n",
              "      <th>50%</th>\n",
              "      <th>75%</th>\n",
              "      <th>max</th>\n",
              "    </tr>\n",
              "  </thead>\n",
              "  <tbody>\n",
              "    <tr>\n",
              "      <th>V1</th>\n",
              "      <td>150.0</td>\n",
              "      <td>5.843333</td>\n",
              "      <td>0.828066</td>\n",
              "      <td>4.3</td>\n",
              "      <td>5.1000</td>\n",
              "      <td>5.800</td>\n",
              "      <td>6.4000</td>\n",
              "      <td>7.90</td>\n",
              "    </tr>\n",
              "    <tr>\n",
              "      <th>V2</th>\n",
              "      <td>150.0</td>\n",
              "      <td>3.057333</td>\n",
              "      <td>0.435866</td>\n",
              "      <td>2.0</td>\n",
              "      <td>2.8000</td>\n",
              "      <td>3.000</td>\n",
              "      <td>3.3000</td>\n",
              "      <td>4.40</td>\n",
              "    </tr>\n",
              "    <tr>\n",
              "      <th>V3</th>\n",
              "      <td>150.0</td>\n",
              "      <td>7.100667</td>\n",
              "      <td>1.850630</td>\n",
              "      <td>3.8</td>\n",
              "      <td>5.1625</td>\n",
              "      <td>7.400</td>\n",
              "      <td>8.5875</td>\n",
              "      <td>11.50</td>\n",
              "    </tr>\n",
              "    <tr>\n",
              "      <th>V4</th>\n",
              "      <td>150.0</td>\n",
              "      <td>3.758000</td>\n",
              "      <td>1.765298</td>\n",
              "      <td>1.0</td>\n",
              "      <td>1.6000</td>\n",
              "      <td>4.350</td>\n",
              "      <td>5.1000</td>\n",
              "      <td>6.90</td>\n",
              "    </tr>\n",
              "    <tr>\n",
              "      <th>V5</th>\n",
              "      <td>150.0</td>\n",
              "      <td>17.218067</td>\n",
              "      <td>12.627044</td>\n",
              "      <td>1.0</td>\n",
              "      <td>2.5600</td>\n",
              "      <td>18.925</td>\n",
              "      <td>26.0100</td>\n",
              "      <td>47.61</td>\n",
              "    </tr>\n",
              "    <tr>\n",
              "      <th>V6</th>\n",
              "      <td>150.0</td>\n",
              "      <td>1.199333</td>\n",
              "      <td>0.762238</td>\n",
              "      <td>0.1</td>\n",
              "      <td>0.3000</td>\n",
              "      <td>1.300</td>\n",
              "      <td>1.8000</td>\n",
              "      <td>2.50</td>\n",
              "    </tr>\n",
              "  </tbody>\n",
              "</table>\n",
              "</div>"
            ],
            "text/plain": [
              "    count       mean        std  min     25%     50%      75%    max\n",
              "V1  150.0   5.843333   0.828066  4.3  5.1000   5.800   6.4000   7.90\n",
              "V2  150.0   3.057333   0.435866  2.0  2.8000   3.000   3.3000   4.40\n",
              "V3  150.0   7.100667   1.850630  3.8  5.1625   7.400   8.5875  11.50\n",
              "V4  150.0   3.758000   1.765298  1.0  1.6000   4.350   5.1000   6.90\n",
              "V5  150.0  17.218067  12.627044  1.0  2.5600  18.925  26.0100  47.61\n",
              "V6  150.0   1.199333   0.762238  0.1  0.3000   1.300   1.8000   2.50"
            ]
          },
          "metadata": {
            "tags": []
          },
          "execution_count": 4
        }
      ]
    },
    {
      "cell_type": "code",
      "metadata": {
        "id": "1ezuKiuk0pZr",
        "colab_type": "code",
        "colab": {}
      },
      "source": [
        "'''\n",
        "Describe Stats of a variable.\n",
        "input: np.array\n",
        "output: Dictonary with processed Values:\n",
        "  @Media\n",
        "  @Mediana\n",
        "  @Moda\n",
        "  @Variancia\n",
        "  @Desvio Padrão\n",
        "\n",
        "'''\n",
        "def describe(variable):\n",
        "  var_dic = {\n",
        "      'Media':0.0,\n",
        "      'Mediana':0.0,\n",
        "      'Moda':0.0,\n",
        "      'Variancia':0.0,\n",
        "      'Std':0.0\n",
        "  }\n",
        "  var_dic['Media'] = np.mean(variable)\n",
        "  var_dic['Mediana'] = np.median(variable)\n",
        "  var_dic['Moda'] = mode(variable, axis=None)\n",
        "  var_dic['Variancia'] = np.var(variable)\n",
        "  var_dic['Std'] = np.std(variable)\n",
        "  return var_dic"
      ],
      "execution_count": 5,
      "outputs": []
    },
    {
      "cell_type": "code",
      "metadata": {
        "id": "LdaEgkan01r6",
        "colab_type": "code",
        "colab": {}
      },
      "source": [
        "def print_describe(variable):\n",
        "  dic = describe(variable)\n",
        "  print('{}'.format(variable.name))\n",
        "  print('Média: {}'.format(dic['Media']))\n",
        "  print('Mediana: {}'.format(dic['Mediana']))\n",
        "  print('Moda: {}'.format(dic['Moda']))\n",
        "  print('Variância: {}'.format(dic['Variancia']))\n",
        "  print('Desvio Padrão: {}'.format(dic['Std']))"
      ],
      "execution_count": 6,
      "outputs": []
    },
    {
      "cell_type": "code",
      "metadata": {
        "id": "_QWGFhnJ4jB_",
        "colab_type": "code",
        "colab": {
          "base_uri": "https://localhost:8080/",
          "height": 833
        },
        "outputId": "6973177c-174e-4828-9bed-6e47b4de95bd"
      },
      "source": [
        "for var in data.columns:\n",
        "  print_describe(data[var])\n",
        "  print('\\n')"
      ],
      "execution_count": 7,
      "outputs": [
        {
          "output_type": "stream",
          "text": [
            "V1\n",
            "Média: 5.843333333333335\n",
            "Mediana: 5.8\n",
            "Moda: ModeResult(mode=array([5], dtype=object), count=array([10]))\n",
            "Variância: 0.6811222222222223\n",
            "Desvio Padrão: 0.8253012917851409\n",
            "\n",
            "\n",
            "V2\n",
            "Média: 3.057333333333334\n",
            "Mediana: 3.0\n",
            "Moda: ModeResult(mode=array([3], dtype=object), count=array([26]))\n",
            "Variância: 0.1887128888888889\n",
            "Desvio Padrão: 0.4344109677354946\n",
            "\n",
            "\n",
            "V3\n",
            "Média: 7.100666666666666\n",
            "Mediana: 7.4\n",
            "Moda: ModeResult(mode=array([4.5], dtype=object), count=array([5]))\n",
            "Variância: 3.4019995555555558\n",
            "Desvio Padrão: 1.8444510173912334\n",
            "\n",
            "\n",
            "V4\n",
            "Média: 3.7580000000000027\n",
            "Mediana: 4.35\n",
            "Moda: ModeResult(mode=array([1.4], dtype=object), count=array([13]))\n",
            "Variância: 3.0955026666666665\n",
            "Desvio Padrão: 1.759404065775303\n",
            "\n",
            "\n",
            "V5\n",
            "Média: 17.21806666666667\n",
            "Mediana: 18.925\n",
            "Moda: ModeResult(mode=array([1.9599999999999997], dtype=object), count=array([13]))\n",
            "Variância: 158.37928092888887\n",
            "Desvio Padrão: 12.584883031990758\n",
            "\n",
            "\n",
            "V6\n",
            "Média: 1.199333333333334\n",
            "Mediana: 1.3\n",
            "Moda: ModeResult(mode=array([0.2], dtype=object), count=array([29]))\n",
            "Variância: 0.5771328888888888\n",
            "Desvio Padrão: 0.7596926279021594\n",
            "\n",
            "\n"
          ],
          "name": "stdout"
        }
      ]
    }
  ]
}
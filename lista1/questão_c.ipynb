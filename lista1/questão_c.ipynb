{
  "nbformat": 4,
  "nbformat_minor": 0,
  "metadata": {
    "colab": {
      "name": "questão_c.ipynb",
      "provenance": [],
      "authorship_tag": "ABX9TyMM1jfCLcpZ+6RgbOntJL95",
      "include_colab_link": true
    },
    "kernelspec": {
      "name": "python3",
      "display_name": "Python 3"
    }
  },
  "cells": [
    {
      "cell_type": "markdown",
      "metadata": {
        "id": "view-in-github",
        "colab_type": "text"
      },
      "source": [
        "<a href=\"https://colab.research.google.com/github/carvalheirafc/dim0097/blob/master/lista1/quest%C3%A3o_c.ipynb\" target=\"_parent\"><img src=\"https://colab.research.google.com/assets/colab-badge.svg\" alt=\"Open In Colab\"/></a>"
      ]
    },
    {
      "cell_type": "code",
      "metadata": {
        "id": "ZrwYpvJLUnvA",
        "colab_type": "code",
        "colab": {}
      },
      "source": [
        "import pandas as pd"
      ],
      "execution_count": 1,
      "outputs": []
    },
    {
      "cell_type": "code",
      "metadata": {
        "id": "ZIAn3Ro2UpZs",
        "colab_type": "code",
        "colab": {
          "base_uri": "https://localhost:8080/",
          "height": 204
        },
        "outputId": "93a07751-077d-45a4-f8de-ed29ec7cc5b1"
      },
      "source": [
        "'''\n",
        "IO 'Lista1_Conjunto1.xlsx' into Pandas Dataframe\n",
        "Selected only columns with valid data. Excluded NaN.\n",
        "Renamed columns names.\n",
        "\n",
        "'''\n",
        "data = pd.read_excel('Lista1_Conjunto1.xlsx', skiprows=1, usecols=[2,3,4,5,6,7])\n",
        "data.columns = data.loc[[0]].values.reshape(-1)\n",
        "data.head()"
      ],
      "execution_count": 8,
      "outputs": [
        {
          "output_type": "execute_result",
          "data": {
            "text/html": [
              "<div>\n",
              "<style scoped>\n",
              "    .dataframe tbody tr th:only-of-type {\n",
              "        vertical-align: middle;\n",
              "    }\n",
              "\n",
              "    .dataframe tbody tr th {\n",
              "        vertical-align: top;\n",
              "    }\n",
              "\n",
              "    .dataframe thead th {\n",
              "        text-align: right;\n",
              "    }\n",
              "</style>\n",
              "<table border=\"1\" class=\"dataframe\">\n",
              "  <thead>\n",
              "    <tr style=\"text-align: right;\">\n",
              "      <th></th>\n",
              "      <th>V1</th>\n",
              "      <th>V2</th>\n",
              "      <th>V3</th>\n",
              "      <th>V4</th>\n",
              "      <th>V5</th>\n",
              "      <th>V6</th>\n",
              "    </tr>\n",
              "  </thead>\n",
              "  <tbody>\n",
              "    <tr>\n",
              "      <th>0</th>\n",
              "      <td>V1</td>\n",
              "      <td>V2</td>\n",
              "      <td>V3</td>\n",
              "      <td>V4</td>\n",
              "      <td>V5</td>\n",
              "      <td>V6</td>\n",
              "    </tr>\n",
              "    <tr>\n",
              "      <th>1</th>\n",
              "      <td>5.1</td>\n",
              "      <td>3.5</td>\n",
              "      <td>4.95</td>\n",
              "      <td>1.4</td>\n",
              "      <td>1.96</td>\n",
              "      <td>0.2</td>\n",
              "    </tr>\n",
              "    <tr>\n",
              "      <th>2</th>\n",
              "      <td>4.9</td>\n",
              "      <td>3</td>\n",
              "      <td>5.3</td>\n",
              "      <td>1.4</td>\n",
              "      <td>1.96</td>\n",
              "      <td>0.2</td>\n",
              "    </tr>\n",
              "    <tr>\n",
              "      <th>3</th>\n",
              "      <td>4.7</td>\n",
              "      <td>3.2</td>\n",
              "      <td>4.6</td>\n",
              "      <td>1.3</td>\n",
              "      <td>1.69</td>\n",
              "      <td>0.2</td>\n",
              "    </tr>\n",
              "    <tr>\n",
              "      <th>4</th>\n",
              "      <td>4.6</td>\n",
              "      <td>3.1</td>\n",
              "      <td>4.55</td>\n",
              "      <td>1.5</td>\n",
              "      <td>2.25</td>\n",
              "      <td>0.2</td>\n",
              "    </tr>\n",
              "  </tbody>\n",
              "</table>\n",
              "</div>"
            ],
            "text/plain": [
              "    V1   V2    V3   V4    V5   V6\n",
              "0   V1   V2    V3   V4    V5   V6\n",
              "1  5.1  3.5  4.95  1.4  1.96  0.2\n",
              "2  4.9    3   5.3  1.4  1.96  0.2\n",
              "3  4.7  3.2   4.6  1.3  1.69  0.2\n",
              "4  4.6  3.1  4.55  1.5  2.25  0.2"
            ]
          },
          "metadata": {
            "tags": []
          },
          "execution_count": 8
        }
      ]
    },
    {
      "cell_type": "code",
      "metadata": {
        "id": "2NqAVxvzshSa",
        "colab_type": "code",
        "colab": {}
      },
      "source": [
        "'''\n",
        "Execute this only once in a runtime session.\n",
        "This delete only the first column, ['V1', 'V2', ...'V6']\n",
        "'''\n",
        "data.drop([0], inplace=True)"
      ],
      "execution_count": 3,
      "outputs": []
    },
    {
      "cell_type": "code",
      "metadata": {
        "id": "q6PrMKdKrv17",
        "colab_type": "code",
        "colab": {
          "base_uri": "https://localhost:8080/",
          "height": 235
        },
        "outputId": "3a4704dd-2f93-4963-817c-b8efe3481fb8"
      },
      "source": [
        "data.astype(float).describe().transpose()"
      ],
      "execution_count": 6,
      "outputs": [
        {
          "output_type": "execute_result",
          "data": {
            "text/html": [
              "<div>\n",
              "<style scoped>\n",
              "    .dataframe tbody tr th:only-of-type {\n",
              "        vertical-align: middle;\n",
              "    }\n",
              "\n",
              "    .dataframe tbody tr th {\n",
              "        vertical-align: top;\n",
              "    }\n",
              "\n",
              "    .dataframe thead th {\n",
              "        text-align: right;\n",
              "    }\n",
              "</style>\n",
              "<table border=\"1\" class=\"dataframe\">\n",
              "  <thead>\n",
              "    <tr style=\"text-align: right;\">\n",
              "      <th></th>\n",
              "      <th>count</th>\n",
              "      <th>mean</th>\n",
              "      <th>std</th>\n",
              "      <th>min</th>\n",
              "      <th>25%</th>\n",
              "      <th>50%</th>\n",
              "      <th>75%</th>\n",
              "      <th>max</th>\n",
              "    </tr>\n",
              "  </thead>\n",
              "  <tbody>\n",
              "    <tr>\n",
              "      <th>V1</th>\n",
              "      <td>150.0</td>\n",
              "      <td>5.843333</td>\n",
              "      <td>0.828066</td>\n",
              "      <td>4.3</td>\n",
              "      <td>5.1000</td>\n",
              "      <td>5.800</td>\n",
              "      <td>6.4000</td>\n",
              "      <td>7.90</td>\n",
              "    </tr>\n",
              "    <tr>\n",
              "      <th>V2</th>\n",
              "      <td>150.0</td>\n",
              "      <td>3.057333</td>\n",
              "      <td>0.435866</td>\n",
              "      <td>2.0</td>\n",
              "      <td>2.8000</td>\n",
              "      <td>3.000</td>\n",
              "      <td>3.3000</td>\n",
              "      <td>4.40</td>\n",
              "    </tr>\n",
              "    <tr>\n",
              "      <th>V3</th>\n",
              "      <td>150.0</td>\n",
              "      <td>7.100667</td>\n",
              "      <td>1.850630</td>\n",
              "      <td>3.8</td>\n",
              "      <td>5.1625</td>\n",
              "      <td>7.400</td>\n",
              "      <td>8.5875</td>\n",
              "      <td>11.50</td>\n",
              "    </tr>\n",
              "    <tr>\n",
              "      <th>V4</th>\n",
              "      <td>150.0</td>\n",
              "      <td>3.758000</td>\n",
              "      <td>1.765298</td>\n",
              "      <td>1.0</td>\n",
              "      <td>1.6000</td>\n",
              "      <td>4.350</td>\n",
              "      <td>5.1000</td>\n",
              "      <td>6.90</td>\n",
              "    </tr>\n",
              "    <tr>\n",
              "      <th>V5</th>\n",
              "      <td>150.0</td>\n",
              "      <td>17.218067</td>\n",
              "      <td>12.627044</td>\n",
              "      <td>1.0</td>\n",
              "      <td>2.5600</td>\n",
              "      <td>18.925</td>\n",
              "      <td>26.0100</td>\n",
              "      <td>47.61</td>\n",
              "    </tr>\n",
              "    <tr>\n",
              "      <th>V6</th>\n",
              "      <td>150.0</td>\n",
              "      <td>1.199333</td>\n",
              "      <td>0.762238</td>\n",
              "      <td>0.1</td>\n",
              "      <td>0.3000</td>\n",
              "      <td>1.300</td>\n",
              "      <td>1.8000</td>\n",
              "      <td>2.50</td>\n",
              "    </tr>\n",
              "  </tbody>\n",
              "</table>\n",
              "</div>"
            ],
            "text/plain": [
              "    count       mean        std  min     25%     50%      75%    max\n",
              "V1  150.0   5.843333   0.828066  4.3  5.1000   5.800   6.4000   7.90\n",
              "V2  150.0   3.057333   0.435866  2.0  2.8000   3.000   3.3000   4.40\n",
              "V3  150.0   7.100667   1.850630  3.8  5.1625   7.400   8.5875  11.50\n",
              "V4  150.0   3.758000   1.765298  1.0  1.6000   4.350   5.1000   6.90\n",
              "V5  150.0  17.218067  12.627044  1.0  2.5600  18.925  26.0100  47.61\n",
              "V6  150.0   1.199333   0.762238  0.1  0.3000   1.300   1.8000   2.50"
            ]
          },
          "metadata": {
            "tags": []
          },
          "execution_count": 6
        }
      ]
    }
  ]
}